{
 "cells": [
  {
   "cell_type": "markdown",
   "metadata": {},
   "source": [
    "### **API EDA process**:\n",
    "- Objective: This notebook presents the process of interaction with the API, the EDA of the data obtained and the integration with the main data (Credit Card Transactions).\n",
    "---"
   ]
  }
 ],
 "metadata": {
  "language_info": {
   "name": "python"
  }
 },
 "nbformat": 4,
 "nbformat_minor": 2
}
