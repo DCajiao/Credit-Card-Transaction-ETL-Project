{
 "cells": [
  {
   "cell_type": "markdown",
   "metadata": {},
   "source": [
    "#### **First Step**: Consulting data to the Database"
   ]
  },
  {
   "cell_type": "markdown",
   "metadata": {},
   "source": [
    "Task:\n",
    "\n",
    "- Establish connection to the database\n",
    "- Load data into a data frame such as `df` for cleansing"
   ]
  },
  {
   "cell_type": "code",
   "execution_count": 1,
   "metadata": {},
   "outputs": [],
   "source": [
    "import pandas as pd\n",
    "import sys\n",
    "import os\n",
    "\n",
    "# Add the 'src' folder to sys.path\n",
    "sys.path.append(os.path.abspath(os.path.join('..', 'src')))"
   ]
  },
  {
   "cell_type": "code",
   "execution_count": 2,
   "metadata": {},
   "outputs": [],
   "source": [
    "from connections.db import DB\n",
    "\n",
    "db = DB()"
   ]
  },
  {
   "cell_type": "code",
   "execution_count": 3,
   "metadata": {},
   "outputs": [
    {
     "name": "stderr",
     "output_type": "stream",
     "text": [
      "2024-08-26 22:02:33,747 - ✔ Connected to database\n",
      "2024-08-26 22:03:39,892 - ✔ Data loaded into DataFrame\n",
      "2024-08-26 22:03:40,060 - ✔ Cursor closed\n",
      "2024-08-26 22:03:40,061 - ✔ Connection closed\n"
     ]
    }
   ],
   "source": [
    "# Fetch the data from the database as a dataframe\n",
    "df = db.fetch_as_dataframe('../sql/queries/004_get_raw_data.sql')"
   ]
  },
  {
   "cell_type": "markdown",
   "metadata": {},
   "source": [
    "---"
   ]
  },
  {
   "cell_type": "markdown",
   "metadata": {},
   "source": [
    "#### **Second Step**: Transformation Process"
   ]
  },
  {
   "cell_type": "markdown",
   "metadata": {},
   "source": [
    "Task:\n",
    "\n",
    "- Column `Unnamed: 0` should be renamed to `id`.\n",
    "- The `trans_date_trans_time` column should be loaded as `datetime`.\n",
    "- The `dob` column should be loaded as `datetime`.\n",
    "- Column `cc_num` should be loaded as string.\n",
    "- Remove the `unix_time`, `city_pop`,`merch_lat`,`merch_long`, columns.\n",
    "- Remove records with null values.\n",
    "- Convert `is_fraud` to boolean.\n",
    "- Calculate the `age` of the customers and convert it to a new column.\n",
    "- Remove records whose `age` is less than 21 years old."
   ]
  },
  {
   "cell_type": "code",
   "execution_count": 5,
   "metadata": {},
   "outputs": [],
   "source": [
    "# Change the name from 'Unnamed:0' to 'id'.\n",
    "df = df.rename(columns={'Unnamed: 0': 'id'})"
   ]
  },
  {
   "cell_type": "code",
   "execution_count": 6,
   "metadata": {},
   "outputs": [],
   "source": [
    "# Convert column 'trans_date_trans_time' and 'dob' to type datetime\n",
    "df['trans_date_trans_time'] = pd.to_datetime(df['trans_date_trans_time'])\n",
    "df['dob'] = pd.to_datetime(df['dob'])"
   ]
  },
  {
   "cell_type": "code",
   "execution_count": 7,
   "metadata": {},
   "outputs": [],
   "source": [
    "# Convert column 'cc_num' to string\n",
    "df['cc_num'] = df['cc_num'].astype(str)"
   ]
  },
  {
   "cell_type": "code",
   "execution_count": 8,
   "metadata": {},
   "outputs": [],
   "source": [
    "# Remove unused columns 'unix_time', 'city_pop', 'merch_lat', 'merch_long'\n",
    "df = df.drop(columns=['unix_time', 'city_pop', 'merch_lat', 'merch_long'])"
   ]
  },
  {
   "cell_type": "code",
   "execution_count": 9,
   "metadata": {},
   "outputs": [],
   "source": [
    "# Remove the null values\n",
    "df = df.dropna()"
   ]
  },
  {
   "cell_type": "code",
   "execution_count": 10,
   "metadata": {},
   "outputs": [],
   "source": [
    "#Convert 'is_fraud' to boolean type\n",
    "df['is_fraud'] = df['is_fraud'].astype(bool)"
   ]
  },
  {
   "cell_type": "code",
   "execution_count": 11,
   "metadata": {},
   "outputs": [],
   "source": [
    "# Create the age column of customers \n",
    "df['age'] = df['trans_date_trans_time'].dt.year - df['dob'].dt.year"
   ]
  },
  {
   "cell_type": "code",
   "execution_count": 12,
   "metadata": {},
   "outputs": [],
   "source": [
    "#filter the data so that only customers over 21 years of age are displayed.\n",
    "df = df[df['age'] > 21]"
   ]
  },
  {
   "cell_type": "markdown",
   "metadata": {},
   "source": [
    "#### **Third Step**: Upload data to database"
   ]
  },
  {
   "cell_type": "markdown",
   "metadata": {},
   "source": [
    "Task:\n",
    "\n",
    "- Import db class to use connector\n",
    "- Establish connection and execute the queries to create the schema and send the data.\n",
    "- Validate that the table has been created and that all records have been loaded."
   ]
  },
  {
   "cell_type": "code",
   "execution_count": 15,
   "metadata": {},
   "outputs": [
    {
     "name": "stderr",
     "output_type": "stream",
     "text": [
      "2024-08-27 22:43:47,730 - Generating schema for credit_card_transactions_clean\n",
      "2024-08-27 22:43:47,731 - Infering SQL type for int64\n",
      "2024-08-27 22:43:47,735 - Infering SQL type for datetime64[ns]\n",
      "2024-08-27 22:43:47,736 - Infering SQL type for object\n",
      "2024-08-27 22:43:47,737 - Infering SQL type for object\n",
      "2024-08-27 22:43:47,737 - Infering SQL type for object\n",
      "2024-08-27 22:43:47,738 - Infering SQL type for float64\n",
      "2024-08-27 22:43:47,739 - Infering SQL type for object\n",
      "2024-08-27 22:43:47,739 - Infering SQL type for object\n",
      "2024-08-27 22:43:47,740 - Infering SQL type for object\n",
      "2024-08-27 22:43:47,741 - Infering SQL type for object\n",
      "2024-08-27 22:43:47,741 - Infering SQL type for object\n",
      "2024-08-27 22:43:47,742 - Infering SQL type for object\n",
      "2024-08-27 22:43:47,743 - Infering SQL type for int64\n",
      "2024-08-27 22:43:47,747 - Infering SQL type for float64\n",
      "2024-08-27 22:43:47,748 - Infering SQL type for float64\n",
      "2024-08-27 22:43:47,749 - Infering SQL type for object\n",
      "2024-08-27 22:43:47,749 - Infering SQL type for datetime64[ns]\n",
      "2024-08-27 22:43:47,750 - Infering SQL type for object\n",
      "2024-08-27 22:43:47,750 - Infering SQL type for bool\n",
      "2024-08-27 22:43:47,751 - Infering SQL type for float64\n",
      "2024-08-27 22:43:47,752 - Infering SQL type for int32\n",
      "2024-08-27 22:43:47,756 - Query written to ../sql/schema_clean.sql\n",
      "2024-08-27 22:43:47,757 - Generating seed data for credit_card_transactions_clean\n",
      "2024-08-27 22:45:27,064 - Query written to ../sql/seed_data_clean.sql\n"
     ]
    }
   ],
   "source": [
    "from utils.pysqlschema import SQLSchemaGenerator\n",
    "\n",
    "generator = SQLSchemaGenerator(table_name='credit_card_transactions_clean')\n",
    "generator.generate_schema(df, '../sql/schema_clean.sql')\n",
    "generator.generate_seed_data(df, '../sql/seed_data_clean.sql')"
   ]
  },
  {
   "cell_type": "code",
   "execution_count": 14,
   "metadata": {},
   "outputs": [],
   "source": [
    "from connections.db import DB\n",
    "db = DB()"
   ]
  },
  {
   "cell_type": "code",
   "execution_count": 20,
   "metadata": {},
   "outputs": [
    {
     "name": "stderr",
     "output_type": "stream",
     "text": [
      "2024-08-27 22:47:58,074 - ✔ Connected to database\n",
      "2024-08-27 22:47:58,224 - ✔ Query executed\n",
      "2024-08-27 22:47:58,225 - ✔ Cursor closed\n",
      "2024-08-27 22:47:58,226 - ✔ Connection closed\n"
     ]
    }
   ],
   "source": [
    "# Create schema\n",
    "db.execute(\"../sql/schema_clean.sql\", fetch_results=False)"
   ]
  },
  {
   "cell_type": "code",
   "execution_count": 21,
   "metadata": {},
   "outputs": [
    {
     "name": "stderr",
     "output_type": "stream",
     "text": [
      "2024-08-27 22:48:02,798 - ✔ Connected to database\n",
      "2024-08-27 22:48:16,442 - ✔ Executed a batch of 20000 records\n",
      "2024-08-27 22:48:29,043 - ✔ Executed a batch of 20000 records\n",
      "2024-08-27 22:48:41,841 - ✔ Executed a batch of 20000 records\n",
      "2024-08-27 22:49:01,384 - ✔ Executed a batch of 20000 records\n",
      "2024-08-27 22:49:13,166 - ✔ Executed a batch of 20000 records\n",
      "2024-08-27 22:49:25,023 - ✔ Executed a batch of 20000 records\n",
      "2024-08-27 22:49:38,448 - ✔ Executed a batch of 20000 records\n",
      "2024-08-27 22:49:58,190 - ✔ Executed a batch of 20000 records\n",
      "2024-08-27 22:50:09,620 - ✔ Executed a batch of 20000 records\n",
      "2024-08-27 22:50:22,447 - ✔ Executed a batch of 20000 records\n",
      "2024-08-27 22:50:36,445 - ✔ Executed a batch of 20000 records\n",
      "2024-08-27 22:51:03,079 - ✔ Executed a batch of 20000 records\n",
      "2024-08-27 22:51:15,919 - ✔ Executed a batch of 20000 records\n",
      "2024-08-27 22:51:29,122 - ✔ Executed a batch of 20000 records\n",
      "2024-08-27 22:51:41,721 - ✔ Executed a batch of 20000 records\n",
      "2024-08-27 22:52:01,828 - ✔ Executed a batch of 20000 records\n",
      "2024-08-27 22:52:14,297 - ✔ Executed a batch of 20000 records\n",
      "2024-08-27 22:52:27,134 - ✔ Executed a batch of 20000 records\n",
      "2024-08-27 22:52:39,606 - ✔ Executed a batch of 20000 records\n",
      "2024-08-27 22:53:14,808 - ✔ Executed a batch of 20000 records\n",
      "2024-08-27 22:53:31,656 - ✔ Executed a batch of 20000 records\n",
      "2024-08-27 22:53:44,321 - ✔ Executed a batch of 20000 records\n",
      "2024-08-27 22:53:57,026 - ✔ Executed a batch of 20000 records\n",
      "2024-08-27 22:54:09,725 - ✔ Executed a batch of 20000 records\n",
      "2024-08-27 22:54:22,049 - ✔ Executed a batch of 20000 records\n",
      "2024-08-27 22:54:32,664 - ✔ Executed a batch of 20000 records\n",
      "2024-08-27 22:54:45,726 - ✔ Executed a batch of 20000 records\n",
      "2024-08-27 22:55:09,911 - ✔ Executed a batch of 20000 records\n",
      "2024-08-27 22:55:42,235 - ✔ Executed a batch of 20000 records\n",
      "2024-08-27 22:56:05,011 - ✔ Executed a batch of 20000 records\n",
      "2024-08-27 22:56:18,132 - ✔ Executed a batch of 20000 records\n",
      "2024-08-27 22:56:30,659 - ✔ Executed a batch of 20000 records\n",
      "2024-08-27 22:56:43,279 - ✔ Executed a batch of 20000 records\n",
      "2024-08-27 22:57:00,130 - ✔ Executed a batch of 20000 records\n",
      "2024-08-27 22:57:17,450 - ✔ Executed a batch of 20000 records\n",
      "2024-08-27 22:57:28,211 - ✔ Executed a batch of 20000 records\n",
      "2024-08-27 22:57:44,725 - ✔ Executed a batch of 20000 records\n",
      "2024-08-27 22:58:08,770 - ✔ Executed a batch of 20000 records\n",
      "2024-08-27 22:58:18,347 - ✔ Executed a batch of 20000 records\n",
      "2024-08-27 22:58:27,610 - ✔ Executed a batch of 20000 records\n",
      "2024-08-27 22:58:52,536 - ✔ Executed a batch of 20000 records\n",
      "2024-08-27 23:00:17,916 - ✔ Executed a batch of 20000 records\n",
      "2024-08-27 23:00:38,628 - ✔ Executed a batch of 20000 records\n",
      "2024-08-27 23:00:51,617 - ✔ Executed a batch of 20000 records\n",
      "2024-08-27 23:01:10,351 - ✔ Executed a batch of 20000 records\n",
      "2024-08-27 23:01:27,912 - ✔ Executed a batch of 20000 records\n",
      "2024-08-27 23:01:40,591 - ✔ Executed a batch of 20000 records\n",
      "2024-08-27 23:02:23,115 - ✔ Executed a batch of 20000 records\n",
      "2024-08-27 23:02:52,744 - ✔ Executed a batch of 20000 records\n",
      "2024-08-27 23:03:03,435 - ✔ Executed a batch of 20000 records\n",
      "2024-08-27 23:03:16,195 - ✔ Executed a batch of 20000 records\n",
      "2024-08-27 23:03:28,862 - ✔ Executed a batch of 20000 records\n",
      "2024-08-27 23:03:35,716 - ✔ Executed the final batch of 12352 records\n",
      "2024-08-27 23:03:35,718 - ✔ Cursor closed\n",
      "2024-08-27 23:03:35,720 - ✔ Connection closed\n"
     ]
    }
   ],
   "source": [
    "# Seed data by executing the seed data script in batches\n",
    "db.execute_in_batches(\"../sql/seed_data_clean.sql\", batch_size=20000)"
   ]
  },
  {
   "cell_type": "code",
   "execution_count": 22,
   "metadata": {},
   "outputs": [
    {
     "name": "stderr",
     "output_type": "stream",
     "text": [
      "2024-08-27 23:03:36,571 - ✔ Connected to database\n",
      "2024-08-27 23:03:36,923 - ✔ Query executed\n",
      "2024-08-27 23:03:36,924 - ✔ Cursor closed\n",
      "2024-08-27 23:03:36,925 - ✔ Connection closed\n"
     ]
    },
    {
     "data": {
      "text/plain": [
       "[('public.credit_card_transactions_clean', 1032279)]"
      ]
     },
     "execution_count": 22,
     "metadata": {},
     "output_type": "execute_result"
    }
   ],
   "source": [
    "# Query the tables to verify that the data has been inserted\n",
    "db.execute(\"../sql/queries/003_view_tables_sizes.sql\", fetch_results=True)"
   ]
  },
  {
   "cell_type": "markdown",
   "metadata": {},
   "source": [
    "---"
   ]
  },
  {
   "cell_type": "markdown",
   "metadata": {},
   "source": [
    "#### **Results**:"
   ]
  },
  {
   "cell_type": "markdown",
   "metadata": {},
   "source": [
    "1. Result 1:  The column`Unnamed: 0` was renamed as  `id` for ease of reading and structure\n",
    "2. Result 2: lhe column `dob` and `trans_date_trans_time` were successfully converted to Datetime because they were in the wrong format.\n",
    "3. Result 3: The column becomes `cc_num` to string type to optimize storage space, since no statistical analysis will be performed with this column.\n",
    "4. Result 4: Columns are deleted  `unix_time`, `city_pop`,`merch_lat`,`merch_long`, columns as they do not add value or contain erroneous information.\n",
    "5. Result 5: The columns with null `merch_zipcode` were eliminated, since they refer to virtual stores (e-comerce).\n",
    "6. Result 6: The column  `is_fraud` is transformed to boolean as it was previously as Integer \n",
    "7. Result 7: The following column is added `age`. The purpose is to filter transactions made by minors under 21 years of age, since in the U.S. context this is the minimum age to be considered an adult."
   ]
  },
  {
   "cell_type": "markdown",
   "metadata": {},
   "source": [
    "---"
   ]
  }
 ],
 "metadata": {
  "kernelspec": {
   "display_name": "credit_card_transactions_project-yQOlLuJu-py3.12",
   "language": "python",
   "name": "python3"
  },
  "language_info": {
   "codemirror_mode": {
    "name": "ipython",
    "version": 3
   },
   "file_extension": ".py",
   "mimetype": "text/x-python",
   "name": "python",
   "nbconvert_exporter": "python",
   "pygments_lexer": "ipython3",
   "version": "3.12.1"
  }
 },
 "nbformat": 4,
 "nbformat_minor": 2
}
