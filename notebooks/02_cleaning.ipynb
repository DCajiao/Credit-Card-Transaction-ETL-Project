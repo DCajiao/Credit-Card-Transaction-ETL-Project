{
 "cells": [
  {
   "cell_type": "markdown",
   "metadata": {},
   "source": [
    "#### **First Step**: Consulting data to the Database"
   ]
  },
  {
   "cell_type": "markdown",
   "metadata": {},
   "source": [
    "Task:\n",
    "\n",
    "- Establish connection to the database\n",
    "- Load data into a data frame such as `df` for cleansing"
   ]
  },
  {
   "cell_type": "code",
   "execution_count": 48,
   "metadata": {},
   "outputs": [],
   "source": [
    "import pandas as pd\n",
    "import sys\n",
    "import os\n",
    "\n",
    "# Add the 'src' folder to sys.path\n",
    "sys.path.append(os.path.abspath(os.path.join('..', 'src')))"
   ]
  },
  {
   "cell_type": "code",
   "execution_count": 49,
   "metadata": {},
   "outputs": [],
   "source": [
    "from connections.db import DB\n",
    "\n",
    "db = DB()"
   ]
  },
  {
   "cell_type": "code",
   "execution_count": 3,
   "metadata": {},
   "outputs": [
    {
     "name": "stderr",
     "output_type": "stream",
     "text": [
      "2024-08-26 22:02:33,747 - ✔ Connected to database\n",
      "2024-08-26 22:03:39,892 - ✔ Data loaded into DataFrame\n",
      "2024-08-26 22:03:40,060 - ✔ Cursor closed\n",
      "2024-08-26 22:03:40,061 - ✔ Connection closed\n"
     ]
    }
   ],
   "source": [
    "# Fetch the data from the database as a dataframe\n",
    "df = db.fetch_as_dataframe('../sql/queries/004_get_raw_data.sql')"
   ]
  },
  {
   "cell_type": "markdown",
   "metadata": {},
   "source": [
    "---"
   ]
  },
  {
   "cell_type": "markdown",
   "metadata": {},
   "source": [
    "#### **Second Step**: Transformation Process"
   ]
  },
  {
   "cell_type": "markdown",
   "metadata": {},
   "source": [
    "Task:\n",
    "\n",
    "- Column `Unnamed: 0` should be renamed to `id`.\n",
    "- The `trans_date_trans_time` column should be loaded as `datetime`.\n",
    "- The `dob` column should be loaded as `datetime`.\n",
    "- Column `cc_num` should be loaded as string.\n",
    "- Remove the `unix_time`, `city_pop`, `lat`, `long`,`merch_lat`,`merch_long`, columns.\n",
    "- Remove records with null values.\n",
    "- Convert `is_fraud` to boolean.\n",
    "- Calculate the `age` of the customers and convert it to a new column.\n",
    "- Remove records whose `age` is less than 21 years old."
   ]
  },
  {
   "cell_type": "code",
   "execution_count": 56,
   "metadata": {},
   "outputs": [],
   "source": [
    "# Change the name from 'Unnamed:0' to 'id'.\n",
    "df = df.rename(columns={'Unnamed: 0': 'id'})"
   ]
  },
  {
   "cell_type": "code",
   "execution_count": 57,
   "metadata": {},
   "outputs": [],
   "source": [
    "# Convert column 'trans_date_trans_time' and 'dob' to type datetime\n",
    "df['trans_date_trans_time'] = pd.to_datetime(df['trans_date_trans_time'])\n",
    "df['dob'] = pd.to_datetime(df['dob'])"
   ]
  },
  {
   "cell_type": "code",
   "execution_count": 58,
   "metadata": {},
   "outputs": [],
   "source": [
    "# Convert column 'cc_num' to string\n",
    "df['cc_num'] = df['cc_num'].astype(str)"
   ]
  },
  {
   "cell_type": "code",
   "execution_count": 59,
   "metadata": {},
   "outputs": [],
   "source": [
    "# Remove unused columns 'unix_time', 'city_pop', 'lat', 'long', 'merch_lat', 'merch_long'\n",
    "df = df.drop(columns=['unix_time', 'city_pop', 'lat', 'long', 'merch_lat', 'merch_long'])"
   ]
  },
  {
   "cell_type": "code",
   "execution_count": 60,
   "metadata": {},
   "outputs": [],
   "source": [
    "# Remove the null values\n",
    "df = df.dropna()"
   ]
  },
  {
   "cell_type": "code",
   "execution_count": 61,
   "metadata": {},
   "outputs": [],
   "source": [
    "#Convert 'is_fraud' to boolean type\n",
    "df['is_fraud'] = df['is_fraud'].astype(bool)"
   ]
  },
  {
   "cell_type": "code",
   "execution_count": 62,
   "metadata": {},
   "outputs": [],
   "source": [
    "# Create the age column of customers \n",
    "df['age'] = df['trans_date_trans_time'].dt.year - df['dob'].dt.year"
   ]
  },
  {
   "cell_type": "code",
   "execution_count": 63,
   "metadata": {},
   "outputs": [],
   "source": [
    "#filter the data so that only customers over 21 years of age are displayed.\n",
    "df = df[df['age'] > 21]"
   ]
  },
  {
   "cell_type": "markdown",
   "metadata": {},
   "source": [
    "#### **Third Step**: Upload data to database"
   ]
  },
  {
   "cell_type": "markdown",
   "metadata": {},
   "source": [
    "Task:\n",
    "\n",
    "- Import db class to use connector\n",
    "- Establish connection and execute the queries to create the schema and send the data.\n",
    "- Validate that the table has been created and that all records have been loaded."
   ]
  },
  {
   "cell_type": "code",
   "execution_count": 64,
   "metadata": {},
   "outputs": [
    {
     "name": "stderr",
     "output_type": "stream",
     "text": [
      "2024-08-26 22:56:51,836 - Generating schema for credit_card_transactions_clean\n",
      "2024-08-26 22:56:51,836 - Infering SQL type for int64\n",
      "2024-08-26 22:56:51,840 - Infering SQL type for datetime64[ns]\n",
      "2024-08-26 22:56:51,840 - Infering SQL type for object\n",
      "2024-08-26 22:56:51,840 - Infering SQL type for object\n",
      "2024-08-26 22:56:51,840 - Infering SQL type for object\n",
      "2024-08-26 22:56:51,840 - Infering SQL type for float64\n",
      "2024-08-26 22:56:51,845 - Infering SQL type for object\n",
      "2024-08-26 22:56:51,845 - Infering SQL type for object\n",
      "2024-08-26 22:56:51,845 - Infering SQL type for object\n",
      "2024-08-26 22:56:51,847 - Infering SQL type for object\n",
      "2024-08-26 22:56:51,847 - Infering SQL type for object\n",
      "2024-08-26 22:56:51,849 - Infering SQL type for object\n",
      "2024-08-26 22:56:51,849 - Infering SQL type for int64\n",
      "2024-08-26 22:56:51,852 - Infering SQL type for object\n",
      "2024-08-26 22:56:51,853 - Infering SQL type for datetime64[ns]\n",
      "2024-08-26 22:56:51,854 - Infering SQL type for object\n",
      "2024-08-26 22:56:51,854 - Infering SQL type for bool\n",
      "2024-08-26 22:56:51,855 - Infering SQL type for float64\n",
      "2024-08-26 22:56:51,856 - Infering SQL type for int32\n",
      "2024-08-26 22:56:51,858 - Query written to ../sql/schema_clean.sql\n",
      "2024-08-26 22:56:51,860 - Generating seed data for credit_card_transactions_clean\n",
      "2024-08-26 22:58:36,482 - Query written to ../sql/seed_data_clean.sql\n"
     ]
    }
   ],
   "source": [
    "from utils.pysqlschema import SQLSchemaGenerator\n",
    "\n",
    "generator = SQLSchemaGenerator(table_name='credit_card_transactions_clean')\n",
    "generator.generate_schema(df, '../sql/schema_clean.sql')\n",
    "generator.generate_seed_data(df, '../sql/seed_data_clean.sql')"
   ]
  },
  {
   "cell_type": "code",
   "execution_count": 65,
   "metadata": {},
   "outputs": [],
   "source": [
    "from connections.db import DB\n",
    "db = DB()"
   ]
  },
  {
   "cell_type": "code",
   "execution_count": 66,
   "metadata": {},
   "outputs": [
    {
     "name": "stderr",
     "output_type": "stream",
     "text": [
      "2024-08-26 23:01:44,663 - ✔ Connected to database\n",
      "2024-08-26 23:01:44,819 - ✔ Query executed\n",
      "2024-08-26 23:01:44,819 - ✔ Cursor closed\n",
      "2024-08-26 23:01:44,823 - ✔ Connection closed\n"
     ]
    }
   ],
   "source": [
    "# Create schema\n",
    "db.execute(\"../sql/schema_clean.sql\", fetch_results=False)"
   ]
  },
  {
   "cell_type": "code",
   "execution_count": 67,
   "metadata": {},
   "outputs": [
    {
     "name": "stderr",
     "output_type": "stream",
     "text": [
      "2024-08-26 23:01:59,927 - ✔ Connected to database\n",
      "2024-08-26 23:02:12,116 - ✔ Executed a batch of 20000 records\n",
      "2024-08-26 23:02:23,299 - ✔ Executed a batch of 20000 records\n",
      "2024-08-26 23:02:34,703 - ✔ Executed a batch of 20000 records\n",
      "2024-08-26 23:02:45,818 - ✔ Executed a batch of 20000 records\n",
      "2024-08-26 23:02:57,664 - ✔ Executed a batch of 20000 records\n",
      "2024-08-26 23:03:17,063 - ✔ Executed a batch of 20000 records\n",
      "2024-08-26 23:03:28,393 - ✔ Executed a batch of 20000 records\n",
      "2024-08-26 23:03:39,520 - ✔ Executed a batch of 20000 records\n",
      "2024-08-26 23:03:50,597 - ✔ Executed a batch of 20000 records\n",
      "2024-08-26 23:04:04,328 - ✔ Executed a batch of 20000 records\n",
      "2024-08-26 23:04:20,537 - ✔ Executed a batch of 20000 records\n",
      "2024-08-26 23:04:32,327 - ✔ Executed a batch of 20000 records\n",
      "2024-08-26 23:04:43,518 - ✔ Executed a batch of 20000 records\n",
      "2024-08-26 23:04:55,127 - ✔ Executed a batch of 20000 records\n",
      "2024-08-26 23:05:12,623 - ✔ Executed a batch of 20000 records\n",
      "2024-08-26 23:05:25,696 - ✔ Executed a batch of 20000 records\n",
      "2024-08-26 23:05:37,404 - ✔ Executed a batch of 20000 records\n",
      "2024-08-26 23:05:49,238 - ✔ Executed a batch of 20000 records\n",
      "2024-08-26 23:06:00,619 - ✔ Executed a batch of 20000 records\n",
      "2024-08-26 23:06:19,813 - ✔ Executed a batch of 20000 records\n",
      "2024-08-26 23:06:30,844 - ✔ Executed a batch of 20000 records\n",
      "2024-08-26 23:06:39,797 - ✔ Executed a batch of 20000 records\n",
      "2024-08-26 23:06:48,989 - ✔ Executed a batch of 20000 records\n",
      "2024-08-26 23:07:01,352 - ✔ Executed a batch of 20000 records\n",
      "2024-08-26 23:07:21,008 - ✔ Executed a batch of 20000 records\n",
      "2024-08-26 23:07:32,361 - ✔ Executed a batch of 20000 records\n",
      "2024-08-26 23:07:42,550 - ✔ Executed a batch of 20000 records\n",
      "2024-08-26 23:07:51,952 - ✔ Executed a batch of 20000 records\n",
      "2024-08-26 23:08:03,429 - ✔ Executed a batch of 20000 records\n",
      "2024-08-26 23:08:23,932 - ✔ Executed a batch of 20000 records\n",
      "2024-08-26 23:08:35,616 - ✔ Executed a batch of 20000 records\n",
      "2024-08-26 23:08:47,175 - ✔ Executed a batch of 20000 records\n",
      "2024-08-26 23:08:58,621 - ✔ Executed a batch of 20000 records\n",
      "2024-08-26 23:09:15,124 - ✔ Executed a batch of 20000 records\n",
      "2024-08-26 23:09:32,644 - ✔ Executed a batch of 20000 records\n",
      "2024-08-26 23:09:44,044 - ✔ Executed a batch of 20000 records\n",
      "2024-08-26 23:09:53,500 - ✔ Executed a batch of 20000 records\n",
      "2024-08-26 23:10:05,375 - ✔ Executed a batch of 20000 records\n",
      "2024-08-26 23:10:17,369 - ✔ Executed a batch of 20000 records\n",
      "2024-08-26 23:10:26,509 - ✔ Executed a batch of 20000 records\n",
      "2024-08-26 23:10:38,180 - ✔ Executed a batch of 20000 records\n",
      "2024-08-26 23:10:49,526 - ✔ Executed a batch of 20000 records\n",
      "2024-08-26 23:11:02,029 - ✔ Executed a batch of 20000 records\n",
      "2024-08-26 23:11:20,712 - ✔ Executed a batch of 20000 records\n",
      "2024-08-26 23:11:37,078 - ✔ Executed a batch of 20000 records\n",
      "2024-08-26 23:11:45,233 - ✔ Executed a batch of 20000 records\n",
      "2024-08-26 23:11:57,198 - ✔ Executed a batch of 20000 records\n",
      "2024-08-26 23:12:09,598 - ✔ Executed a batch of 20000 records\n",
      "2024-08-26 23:12:21,039 - ✔ Executed a batch of 20000 records\n",
      "2024-08-26 23:12:32,262 - ✔ Executed a batch of 20000 records\n",
      "2024-08-26 23:12:44,007 - ✔ Executed a batch of 20000 records\n",
      "2024-08-26 23:12:54,071 - ✔ Executed a batch of 20000 records\n",
      "2024-08-26 23:13:01,291 - ✔ Executed the final batch of 12352 records\n",
      "2024-08-26 23:13:01,291 - ✔ Cursor closed\n",
      "2024-08-26 23:13:01,300 - ✔ Connection closed\n"
     ]
    }
   ],
   "source": [
    "# Seed data by executing the seed data script in batches\n",
    "db.execute_in_batches(\"../sql/seed_data_clean.sql\", batch_size=20000)"
   ]
  },
  {
   "cell_type": "code",
   "execution_count": 68,
   "metadata": {},
   "outputs": [
    {
     "name": "stderr",
     "output_type": "stream",
     "text": [
      "2024-08-26 23:16:25,941 - ✔ Connected to database\n",
      "2024-08-26 23:16:26,210 - ✔ Query executed\n",
      "2024-08-26 23:16:26,210 - ✔ Cursor closed\n",
      "2024-08-26 23:16:26,210 - ✔ Connection closed\n"
     ]
    },
    {
     "data": {
      "text/plain": [
       "[('public.credit_card_transactions_clean', 1050668)]"
      ]
     },
     "execution_count": 68,
     "metadata": {},
     "output_type": "execute_result"
    }
   ],
   "source": [
    "# Query the tables to verify that the data has been inserted\n",
    "db.execute(\"../sql/queries/003_view_tables_sizes.sql\", fetch_results=True)"
   ]
  },
  {
   "cell_type": "markdown",
   "metadata": {},
   "source": [
    "---"
   ]
  },
  {
   "cell_type": "markdown",
   "metadata": {},
   "source": [
    "#### **Results**:"
   ]
  },
  {
   "cell_type": "markdown",
   "metadata": {},
   "source": [
    "1. Result 1:  The column`Unnamed: 0` was renamed as  `id` for ease of reading and structure\n",
    "2. Result 2: lhe column `dob` and `trans_date_trans_time` were successfully converted to Datetime because they were in the wrong format.\n",
    "3. Result 3: The column becomes `cc_num` to string type to optimize storage space, since no statistical analysis will be performed with this column.\n",
    "4. Result 4: Columns are deleted  `unix_time`, `city_pop`, `lat`, `long`,`merch_lat`,`merch_long`, columns as they do not add value or contain erroneous information.\n",
    "5. Result 5: The column  `is_fraud` is transformed to boolean as it was previously as Integer \n",
    "6. Result 6: The following column is added `age`. The purpose is to filter transactions made by minors under 21 years of age, since in the U.S. context this is the minimum age to be considered an adult."
   ]
  },
  {
   "cell_type": "markdown",
   "metadata": {},
   "source": [
    "---"
   ]
  }
 ],
 "metadata": {
  "kernelspec": {
   "display_name": "credit_card_transactions_project-yQOlLuJu-py3.12",
   "language": "python",
   "name": "python3"
  },
  "language_info": {
   "codemirror_mode": {
    "name": "ipython",
    "version": 3
   },
   "file_extension": ".py",
   "mimetype": "text/x-python",
   "name": "python",
   "nbconvert_exporter": "python",
   "pygments_lexer": "ipython3",
   "version": "3.12.1"
  }
 },
 "nbformat": 4,
 "nbformat_minor": 2
}
