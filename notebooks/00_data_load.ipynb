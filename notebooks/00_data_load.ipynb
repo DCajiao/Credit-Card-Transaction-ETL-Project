{
 "cells": [
  {
   "cell_type": "markdown",
   "metadata": {},
   "source": [
    "#### **First Step**: Write the queries for the PostgreSQL database based on the data."
   ]
  },
  {
   "cell_type": "markdown",
   "metadata": {},
   "source": [
    "Task:\n",
    "\n",
    "- Identify the data types to write the database `schema.sql`\n",
    "- Transfer the data from the CSV to a query that allows me to insert all the `seed_data.sql`"
   ]
  },
  {
   "cell_type": "code",
   "execution_count": 1,
   "metadata": {},
   "outputs": [],
   "source": [
    "import pandas as pd\n",
    "import sys\n",
    "import os\n",
    "\n",
    "# Add the 'src' folder to sys.path\n",
    "sys.path.append(os.path.abspath(os.path.join('..', 'src')))"
   ]
  },
  {
   "cell_type": "code",
   "execution_count": 2,
   "metadata": {},
   "outputs": [],
   "source": [
    "df = pd.read_csv('../data/raw/credit_card_purchases.csv')"
   ]
  },
  {
   "cell_type": "code",
   "execution_count": 3,
   "metadata": {},
   "outputs": [
    {
     "name": "stderr",
     "output_type": "stream",
     "text": [
      "2024-08-24 15:45:54,471 - Generating schema for credit_card_transactions\n",
      "2024-08-24 15:45:54,472 - Infering SQL type for int64\n",
      "2024-08-24 15:45:54,477 - Infering SQL type for object\n",
      "2024-08-24 15:45:54,478 - Infering SQL type for int64\n",
      "2024-08-24 15:45:54,483 - Infering SQL type for object\n",
      "2024-08-24 15:45:54,483 - Infering SQL type for object\n",
      "2024-08-24 15:45:54,484 - Infering SQL type for float64\n",
      "2024-08-24 15:45:54,485 - Infering SQL type for object\n",
      "2024-08-24 15:45:54,486 - Infering SQL type for object\n",
      "2024-08-24 15:45:54,487 - Infering SQL type for object\n",
      "2024-08-24 15:45:54,488 - Infering SQL type for object\n",
      "2024-08-24 15:45:54,488 - Infering SQL type for object\n",
      "2024-08-24 15:45:54,490 - Infering SQL type for object\n",
      "2024-08-24 15:45:54,491 - Infering SQL type for int64\n",
      "2024-08-24 15:45:54,495 - Infering SQL type for float64\n",
      "2024-08-24 15:45:54,497 - Infering SQL type for float64\n",
      "2024-08-24 15:45:54,498 - Infering SQL type for int64\n",
      "2024-08-24 15:45:54,501 - Infering SQL type for object\n",
      "2024-08-24 15:45:54,502 - Infering SQL type for object\n",
      "2024-08-24 15:45:54,503 - Infering SQL type for object\n",
      "2024-08-24 15:45:54,504 - Infering SQL type for int64\n",
      "2024-08-24 15:45:54,508 - Infering SQL type for float64\n",
      "2024-08-24 15:45:54,509 - Infering SQL type for float64\n",
      "2024-08-24 15:45:54,510 - Infering SQL type for int64\n",
      "2024-08-24 15:45:54,518 - Infering SQL type for float64\n",
      "2024-08-24 15:45:54,521 - Query written to ../sql/schema.sql\n",
      "2024-08-24 15:45:54,525 - Generating seed data for credit_card_transactions\n",
      "2024-08-24 15:47:39,154 - Query written to ../sql/seed_data.sql\n"
     ]
    }
   ],
   "source": [
    "from utils.pysqlschema import SQLSchemaGenerator\n",
    "\n",
    "generator = SQLSchemaGenerator(table_name='credit_card_transactions')\n",
    "generator.generate_schema(df, '../sql/schema.sql')\n",
    "generator.generate_seed_data(df, '../sql/seed_data.sql')"
   ]
  },
  {
   "cell_type": "markdown",
   "metadata": {},
   "source": [
    "---"
   ]
  },
  {
   "cell_type": "markdown",
   "metadata": {},
   "source": [
    "#### **Second Step**: Upload data to database"
   ]
  },
  {
   "cell_type": "markdown",
   "metadata": {},
   "source": [
    "Task:\n",
    "\n",
    "- Import db class to use connector\n",
    "- Establish connection and execute the queries to create the schema and send the data.\n",
    "- Validate that the table has been created and that all records have been loaded."
   ]
  },
  {
   "cell_type": "code",
   "execution_count": 4,
   "metadata": {},
   "outputs": [],
   "source": [
    "from connections.db import DB\n",
    "db = DB()"
   ]
  },
  {
   "cell_type": "code",
   "execution_count": 5,
   "metadata": {},
   "outputs": [
    {
     "name": "stderr",
     "output_type": "stream",
     "text": [
      "2024-08-24 15:47:40,429 - ✔ Connected to database\n",
      "2024-08-24 15:47:40,562 - ✔ Query executed\n",
      "2024-08-24 15:47:40,563 - ✔ Cursor closed\n",
      "2024-08-24 15:47:40,564 - ✔ Connection closed\n"
     ]
    }
   ],
   "source": [
    "# Remove the table if it already exists\n",
    "db.execute(\"../sql/queries/002_drop_tables.sql\", fetch_results=False)"
   ]
  },
  {
   "cell_type": "code",
   "execution_count": 6,
   "metadata": {},
   "outputs": [
    {
     "name": "stderr",
     "output_type": "stream",
     "text": [
      "2024-08-24 15:47:41,386 - ✔ Connected to database\n",
      "2024-08-24 15:47:41,518 - ✔ Query executed\n",
      "2024-08-24 15:47:41,519 - ✔ Cursor closed\n",
      "2024-08-24 15:47:41,520 - ✔ Connection closed\n"
     ]
    }
   ],
   "source": [
    "# Create schema\n",
    "db.execute(\"../sql/schema.sql\", fetch_results=False)"
   ]
  },
  {
   "cell_type": "code",
   "execution_count": 7,
   "metadata": {},
   "outputs": [
    {
     "name": "stderr",
     "output_type": "stream",
     "text": [
      "2024-08-24 15:47:42,250 - ✔ Connected to database\n",
      "2024-08-24 15:47:57,498 - ✔ Executed a batch of 20000 records\n",
      "2024-08-24 15:48:11,525 - ✔ Executed a batch of 20000 records\n",
      "2024-08-24 15:48:25,106 - ✔ Executed a batch of 20000 records\n",
      "2024-08-24 15:48:39,384 - ✔ Executed a batch of 20000 records\n",
      "2024-08-24 15:49:02,796 - ✔ Executed a batch of 20000 records\n",
      "2024-08-24 15:49:16,940 - ✔ Executed a batch of 20000 records\n",
      "2024-08-24 15:49:29,923 - ✔ Executed a batch of 20000 records\n",
      "2024-08-24 15:49:40,716 - ✔ Executed a batch of 20000 records\n",
      "2024-08-24 15:50:01,950 - ✔ Executed a batch of 20000 records\n",
      "2024-08-24 15:50:16,156 - ✔ Executed a batch of 20000 records\n",
      "2024-08-24 15:50:29,853 - ✔ Executed a batch of 20000 records\n",
      "2024-08-24 15:50:45,723 - ✔ Executed a batch of 20000 records\n",
      "2024-08-24 15:51:07,141 - ✔ Executed a batch of 20000 records\n",
      "2024-08-24 15:51:21,095 - ✔ Executed a batch of 20000 records\n",
      "2024-08-24 15:51:31,892 - ✔ Executed a batch of 20000 records\n",
      "2024-08-24 15:51:43,005 - ✔ Executed a batch of 20000 records\n",
      "2024-08-24 15:52:05,710 - ✔ Executed a batch of 20000 records\n",
      "2024-08-24 15:52:19,108 - ✔ Executed a batch of 20000 records\n",
      "2024-08-24 15:52:32,298 - ✔ Executed a batch of 20000 records\n",
      "2024-08-24 15:52:50,531 - ✔ Executed a batch of 20000 records\n",
      "2024-08-24 15:53:11,501 - ✔ Executed a batch of 20000 records\n",
      "2024-08-24 15:53:25,222 - ✔ Executed a batch of 20000 records\n",
      "2024-08-24 15:53:38,885 - ✔ Executed a batch of 20000 records\n",
      "2024-08-24 15:54:01,605 - ✔ Executed a batch of 20000 records\n",
      "2024-08-24 15:54:19,219 - ✔ Executed a batch of 20000 records\n",
      "2024-08-24 15:54:32,855 - ✔ Executed a batch of 20000 records\n",
      "2024-08-24 15:54:46,171 - ✔ Executed a batch of 20000 records\n",
      "2024-08-24 15:55:00,209 - ✔ Executed a batch of 20000 records\n",
      "2024-08-24 15:55:13,775 - ✔ Executed a batch of 20000 records\n",
      "2024-08-24 15:55:27,722 - ✔ Executed a batch of 20000 records\n",
      "2024-08-24 15:55:42,237 - ✔ Executed a batch of 20000 records\n",
      "2024-08-24 15:56:04,397 - ✔ Executed a batch of 20000 records\n",
      "2024-08-24 15:56:22,652 - ✔ Executed a batch of 20000 records\n",
      "2024-08-24 15:56:36,541 - ✔ Executed a batch of 20000 records\n",
      "2024-08-24 15:56:50,310 - ✔ Executed a batch of 20000 records\n",
      "2024-08-24 15:57:03,676 - ✔ Executed a batch of 20000 records\n",
      "2024-08-24 15:57:17,472 - ✔ Executed a batch of 20000 records\n",
      "2024-08-24 15:57:31,173 - ✔ Executed a batch of 20000 records\n",
      "2024-08-24 15:57:47,442 - ✔ Executed a batch of 20000 records\n",
      "2024-08-24 15:58:11,916 - ✔ Executed a batch of 20000 records\n",
      "2024-08-24 15:58:28,639 - ✔ Executed a batch of 20000 records\n",
      "2024-08-24 15:58:41,989 - ✔ Executed a batch of 20000 records\n",
      "2024-08-24 15:58:55,997 - ✔ Executed a batch of 20000 records\n",
      "2024-08-24 15:59:09,720 - ✔ Executed a batch of 20000 records\n",
      "2024-08-24 15:59:23,005 - ✔ Executed a batch of 20000 records\n",
      "2024-08-24 15:59:37,179 - ✔ Executed a batch of 20000 records\n",
      "2024-08-24 15:59:57,609 - ✔ Executed a batch of 20000 records\n",
      "2024-08-24 16:00:21,346 - ✔ Executed a batch of 20000 records\n",
      "2024-08-24 16:00:34,760 - ✔ Executed a batch of 20000 records\n",
      "2024-08-24 16:00:48,095 - ✔ Executed a batch of 20000 records\n",
      "2024-08-24 16:01:02,094 - ✔ Executed a batch of 20000 records\n",
      "2024-08-24 16:01:15,243 - ✔ Executed a batch of 20000 records\n",
      "2024-08-24 16:01:29,044 - ✔ Executed a batch of 20000 records\n",
      "2024-08-24 16:01:43,698 - ✔ Executed a batch of 20000 records\n",
      "2024-08-24 16:02:01,595 - ✔ Executed a batch of 20000 records\n",
      "2024-08-24 16:02:24,895 - ✔ Executed a batch of 20000 records\n",
      "2024-08-24 16:02:38,378 - ✔ Executed a batch of 20000 records\n",
      "2024-08-24 16:02:52,016 - ✔ Executed a batch of 20000 records\n",
      "2024-08-24 16:03:06,222 - ✔ Executed a batch of 20000 records\n",
      "2024-08-24 16:03:19,762 - ✔ Executed a batch of 20000 records\n",
      "2024-08-24 16:03:33,255 - ✔ Executed a batch of 20000 records\n",
      "2024-08-24 16:03:50,088 - ✔ Executed a batch of 20000 records\n",
      "2024-08-24 16:04:11,986 - ✔ Executed a batch of 20000 records\n",
      "2024-08-24 16:04:29,811 - ✔ Executed a batch of 20000 records\n",
      "2024-08-24 16:04:40,993 - ✔ Executed the final batch of 16675 records\n",
      "2024-08-24 16:04:40,993 - ✔ Cursor closed\n",
      "2024-08-24 16:04:40,994 - ✔ Connection closed\n"
     ]
    }
   ],
   "source": [
    "# Seed data by executing the seed data script in batches\n",
    "db.execute_in_batches(\"../sql/seed_data.sql\", batch_size=20000)"
   ]
  },
  {
   "cell_type": "code",
   "execution_count": 10,
   "metadata": {},
   "outputs": [
    {
     "name": "stderr",
     "output_type": "stream",
     "text": [
      "2024-08-24 16:04:56,987 - ✔ Connected to database\n",
      "2024-08-24 16:04:57,119 - ✔ Query executed\n",
      "2024-08-24 16:04:57,120 - ✔ Cursor closed\n",
      "2024-08-24 16:04:57,121 - ✔ Connection closed\n"
     ]
    },
    {
     "data": {
      "text/plain": [
       "[('credit_card_transactions',)]"
      ]
     },
     "execution_count": 10,
     "metadata": {},
     "output_type": "execute_result"
    }
   ],
   "source": [
    "# View tables\n",
    "db.execute(\"../sql/queries/001_view_tables.sql\", fetch_results=True)"
   ]
  },
  {
   "cell_type": "code",
   "execution_count": 11,
   "metadata": {},
   "outputs": [
    {
     "name": "stderr",
     "output_type": "stream",
     "text": [
      "2024-08-24 16:05:00,049 - ✔ Connected to database\n",
      "2024-08-24 16:05:00,188 - ✔ Query executed\n",
      "2024-08-24 16:05:00,189 - ✔ Cursor closed\n",
      "2024-08-24 16:05:00,190 - ✔ Connection closed\n"
     ]
    },
    {
     "data": {
      "text/plain": [
       "[('public.credit_card_transactions', 1267098)]"
      ]
     },
     "execution_count": 11,
     "metadata": {},
     "output_type": "execute_result"
    }
   ],
   "source": [
    "# View size of tables\n",
    "db.execute(\"../sql/queries/003_view_tables_sizes.sql\")"
   ]
  },
  {
   "cell_type": "markdown",
   "metadata": {},
   "source": [
    "---"
   ]
  },
  {
   "cell_type": "markdown",
   "metadata": {},
   "source": [
    "#### **Results**:"
   ]
  },
  {
   "cell_type": "markdown",
   "metadata": {},
   "source": [
    "- Created the query to define the database schema based on the data.\n",
    "- Created the query to insert the data seed to the database.\n",
    "- Connection established with the database.\n",
    "- Creation of table with the defined schema.\n",
    "- Load data into the table using batches of size 20,000"
   ]
  },
  {
   "cell_type": "markdown",
   "metadata": {},
   "source": [
    "---"
   ]
  }
 ],
 "metadata": {
  "kernelspec": {
   "display_name": ".venv",
   "language": "python",
   "name": "python3"
  },
  "language_info": {
   "codemirror_mode": {
    "name": "ipython",
    "version": 3
   },
   "file_extension": ".py",
   "mimetype": "text/x-python",
   "name": "python",
   "nbconvert_exporter": "python",
   "pygments_lexer": "ipython3",
   "version": "3.12.1"
  }
 },
 "nbformat": 4,
 "nbformat_minor": 2
}
